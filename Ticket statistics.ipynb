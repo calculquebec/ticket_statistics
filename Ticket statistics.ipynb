{
 "cells": [
  {
   "cell_type": "code",
   "execution_count": null,
   "metadata": {
    "collapsed": true
   },
   "outputs": [],
   "source": [
    "import pandas as pd\n",
    "import datetime"
   ]
  },
  {
   "cell_type": "markdown",
   "metadata": {},
   "source": [
    "# Requête SQL utilisée pour obtenir le tsv"
   ]
  },
  {
   "cell_type": "markdown",
   "metadata": {},
   "source": [
    "```SQL\n",
    "SELECT ticket.id AS ticket_id, \n",
    "  queue.name AS queue, \n",
    "  ticket_state_type.name AS state_type, \n",
    "  ticket.create_time AS ticket_create_time, \n",
    "  ticket.change_time AS ticket_change_time, \n",
    "  article_type.name AS article_type,\n",
    "  article_sender_type.name AS article_sender_type,\n",
    "  article.create_time AS article_create_time\n",
    "FROM ticket \n",
    "  INNER JOIN queue on queue.id=ticket.queue_id \n",
    "  INNER JOIN ticket_state ON ticket.ticket_state_id=ticket_state.id \n",
    "  INNER JOIN ticket_state_type ON ticket_state.type_id=ticket_state_type.id \n",
    "  INNER JOIN article ON article.ticket_id=ticket.id \n",
    "  INNER JOIN article_type ON article.article_type_id=article_type.id\n",
    "  INNER JOIN article_sender_type ON article.article_sender_type_id=article_sender_type.id\n",
    "WHERE \n",
    "  ticket_state_type.name='closed'\n",
    "ORDER BY article_create_time;\n",
    "```\n"
   ]
  },
  {
   "cell_type": "code",
   "execution_count": null,
   "metadata": {
    "collapsed": false
   },
   "outputs": [],
   "source": [
    "df_tickets_data = pd.read_csv('tickets_data.tsv',sep='\\t')\n",
    "for c in [\"ticket_create_time\", \"article_create_time\", \"ticket_change_time\"]:\n",
    "    df_tickets_data[c] = pd.to_datetime(df_tickets_data[c])\n",
    "df_tickets_data.head()"
   ]
  },
  {
   "cell_type": "code",
   "execution_count": null,
   "metadata": {
    "collapsed": false
   },
   "outputs": [],
   "source": [
    "(df_tickets_data[\"ticket_change_time\"] - df_tickets_data[\"ticket_create_time\"]).median()"
   ]
  },
  {
   "cell_type": "code",
   "execution_count": null,
   "metadata": {
    "collapsed": false
   },
   "outputs": [],
   "source": [
    "group_by_tickets = df_tickets_data.groupby(\"ticket_id\")\n"
   ]
  },
  {
   "cell_type": "code",
   "execution_count": null,
   "metadata": {
    "collapsed": false
   },
   "outputs": [],
   "source": [
    "df_first_customer_item = df_tickets_data[df_tickets_data.article_sender_type == 'customer'].groupby(\"ticket_id\")[\"article_create_time\"].min().to_frame(\"first_customer_item_time\").reset_index()\n",
    "df_first_agent_email = df_tickets_data[(df_tickets_data.article_sender_type == 'agent') & (df_tickets_data.article_type == 'email-external')].groupby(\"ticket_id\")[\"article_create_time\"].min().to_frame(\"first_agent_email_time\").reset_index()\n",
    "df_last_agent_email = df_tickets_data[(df_tickets_data.article_sender_type == 'agent') & (df_tickets_data.article_type == 'email-external')].groupby(\"ticket_id\")[\"article_create_time\"].max().to_frame(\"last_agent_email_time\").reset_index()"
   ]
  },
  {
   "cell_type": "code",
   "execution_count": null,
   "metadata": {
    "collapsed": false
   },
   "outputs": [],
   "source": [
    "df_first_customer_item.reset_index().head()"
   ]
  },
  {
   "cell_type": "code",
   "execution_count": null,
   "metadata": {
    "collapsed": false
   },
   "outputs": [],
   "source": [
    "df_tickets_data_processed = df_tickets_data\n",
    "df_tickets_data_processed = pd.merge(left=df_tickets_data_processed, right=df_first_customer_item, left_on=\"ticket_id\", right_on=\"ticket_id\")\n",
    "df_tickets_data_processed = pd.merge(left=df_tickets_data_processed, right=df_first_agent_email, left_on=\"ticket_id\", right_on=\"ticket_id\")\n",
    "df_tickets_data_processed = pd.merge(left=df_tickets_data_processed, right=df_last_agent_email, left_on=\"ticket_id\", right_on=\"ticket_id\")\n",
    "df_tickets_data_processed.head()"
   ]
  },
  {
   "cell_type": "code",
   "execution_count": null,
   "metadata": {
    "collapsed": false
   },
   "outputs": [],
   "source": [
    "df_tickets_data_processed[\"first_response_hours\"] = (df_tickets_data_processed[\"first_agent_email_time\"] - df_tickets_data_processed[\"first_customer_item_time\"]) / pd.Timedelta('1 hour')\n",
    "df_tickets_data_processed[\"solution_hours\"] = (df_tickets_data_processed[\"last_agent_email_time\"] - df_tickets_data_processed[\"first_customer_item_time\"]) / pd.Timedelta('1 hour')\n",
    "df_tickets_data_processed[\"close_hours\"] = (df_tickets_data_processed[\"ticket_change_time\"] - df_tickets_data_processed[\"first_customer_item_time\"]) / pd.Timedelta('1 hour')\n"
   ]
  },
  {
   "cell_type": "code",
   "execution_count": null,
   "metadata": {
    "collapsed": false
   },
   "outputs": [],
   "source": [
    "valid_tickets_data = df_tickets_data_processed[(df_tickets_data_processed.first_response_hours > 0) & (df_tickets_data_processed.solution_hours > 0)]\n",
    "no_duplicate_data = valid_tickets_data.drop_duplicates(subset=[\"ticket_id\"])"
   ]
  },
  {
   "cell_type": "code",
   "execution_count": null,
   "metadata": {
    "collapsed": false
   },
   "outputs": [],
   "source": [
    "print(\"First response time (hours):\" + str(no_duplicate_data[\"first_response_hours\"].median()))\n",
    "print(\"Solution time (hours):\" + str(no_duplicate_data[\"solution_hours\"].median()))\n",
    "print(\"Close time (hours):\" + str(no_duplicate_data[\"close_hours\"].median()))"
   ]
  },
  {
   "cell_type": "code",
   "execution_count": null,
   "metadata": {
    "collapsed": false
   },
   "outputs": [],
   "source": [
    "no_duplicate_data.groupby(\"queue\")[\"first_response_hours\"].median()"
   ]
  },
  {
   "cell_type": "code",
   "execution_count": null,
   "metadata": {
    "collapsed": false
   },
   "outputs": [],
   "source": [
    "no_duplicate_data[\"year\"] = no_duplicate_data[\"ticket_create_time\"].map(lambda x: x.year)"
   ]
  },
  {
   "cell_type": "code",
   "execution_count": null,
   "metadata": {
    "collapsed": false
   },
   "outputs": [],
   "source": [
    "def simplified_queue(x):\n",
    "    if \"Colosse\" in x or \"UL\" in x: return \"Colosse\" \n",
    "    if \"Helios\" in x: return \"Helios\"\n",
    "    if \"Guillimin\" in x: return \"Guillimin\"\n",
    "    if \"Altix\" in x: return \"Altix\" \n",
    "    if \"Cottos\" in x: return \"Cottos\"\n",
    "    if \"Hades\" in x: return \"Hades\"\n",
    "    if \"Briaree\" in x: return \"Briaree\"\n",
    "    if \"UdeM\" in x: return \"Briaree\"\n",
    "    if \"UdeS\" in x: return \"Mammouth\"\n",
    "    if \"Communications\" in x: return \"Communications\"\n",
    "    if \"Formations\" in x: return \"Formations\"\n",
    "    if \"Hebergement\" in x: return \"Hebergement\"\n",
    "    if \"Demandes FRQ\" in x: return \"Demandes FRQ\"\n",
    "    if \"Support\" in x or \"clumeq\" in x or \"CalculQuebec\" in x: return \"General\"\n",
    "    if \"Raw\" in x or \"Staff\" in x: return \"Other\"\n",
    "    return x\n",
    "\n",
    "no_duplicate_data[\"simplified_queue\"] = no_duplicate_data[\"queue\"].map(simplified_queue)"
   ]
  },
  {
   "cell_type": "code",
   "execution_count": null,
   "metadata": {
    "collapsed": false
   },
   "outputs": [],
   "source": [
    "no_duplicate_data.groupby([\"year\",\"simplified_queue\"])[\"first_response_hours\"].mean().to_frame(\"mean_first_response_time\").reset_index()\n",
    "no_duplicate_data.groupby([\"year\",\"simplified_queue\"])[\"first_response_hours\"].median().to_frame(\"median_first_response_time\").reset_index()\n"
   ]
  },
  {
   "cell_type": "code",
   "execution_count": null,
   "metadata": {
    "collapsed": false
   },
   "outputs": [],
   "source": [
    "s1 = pd.concat([\n",
    "    no_duplicate_data.groupby([\"year\",\"simplified_queue\"])[\"first_response_hours\"].mean().to_frame(\"mean_first_response_hours\"),\n",
    "    no_duplicate_data.groupby([\"year\",\"simplified_queue\"])[\"first_response_hours\"].median().to_frame(\"median_first_response_hours\"),\n",
    "    no_duplicate_data.groupby([\"year\",\"simplified_queue\"])[\"solution_hours\"].mean().to_frame(\"mean_solution_hours\"),\n",
    "    no_duplicate_data.groupby([\"year\",\"simplified_queue\"])[\"solution_hours\"].median().to_frame(\"median_solution_hours\"),\n",
    "    no_duplicate_data.groupby([\"year\",\"simplified_queue\"])[\"close_hours\"].mean().to_frame(\"mean_close_hours\"),\n",
    "    no_duplicate_data.groupby([\"year\",\"simplified_queue\"])[\"close_hours\"].median().to_frame(\"median_close_hours\"),\n",
    "    no_duplicate_data.groupby([\"year\",\"simplified_queue\"])[\"close_hours\"].count().to_frame(\"count\"),\n",
    "\n",
    "    ],\n",
    "    axis=1\n",
    ").reset_index()\n",
    "s2 = pd.concat([\n",
    "    no_duplicate_data.groupby([\"year\"])[\"first_response_hours\"].mean().to_frame(\"mean_first_response_hours\"),\n",
    "    no_duplicate_data.groupby([\"year\"])[\"first_response_hours\"].median().to_frame(\"median_first_response_hours\"),\n",
    "    no_duplicate_data.groupby([\"year\"])[\"solution_hours\"].mean().to_frame(\"mean_solution_hours\"),\n",
    "    no_duplicate_data.groupby([\"year\"])[\"solution_hours\"].median().to_frame(\"median_solution_hours\"),\n",
    "    no_duplicate_data.groupby([\"year\"])[\"close_hours\"].mean().to_frame(\"mean_close_hours\"),\n",
    "    no_duplicate_data.groupby([\"year\"])[\"close_hours\"].median().to_frame(\"median_close_hours\"),\n",
    "    no_duplicate_data.groupby([\"year\"])[\"close_hours\"].count().to_frame(\"count\"),\n",
    "    ],\n",
    "    axis=1\n",
    ").reset_index()\n",
    "s2[\"simplified_queue\"] = \"TOTAL\"\n",
    "\n",
    "result = pd.concat([s1,s2],axis=0)\n",
    "result.to_csv(\"tickets_donnees_analysees.csv\")"
   ]
  },
  {
   "cell_type": "code",
   "execution_count": null,
   "metadata": {
    "collapsed": false
   },
   "outputs": [],
   "source": [
    "mean_first_response = {}\n",
    "median_first_response = {}\n",
    "mean_solution = {}\n",
    "median_solution = {}\n",
    "mean_close = {}\n",
    "median_close = {}\n",
    "\n",
    "for queue in [\"Guillimin\",\"Briaree\",\"Colosse\",\"Helios\"]:\n",
    "    for year in [2014,2015,2016,2017]:\n",
    "        df_year = no_duplicate_data[(no_duplicate_data.ticket_create_time > str(year) + '-01-01') & (no_duplicate_data.ticket_create_time < str(year+1) + '-01-01')]\n",
    "        df_queue_year = df_year[df_year.queue.str.contains(queue)]\n",
    "        df = df_queue_year\n",
    "        mean_first_response[year] = df[\"first_response_hours\"].mean()\n",
    "        median_first_response[year] = df[\"first_response_hours\"].median()\n",
    "        mean_solution[year] = df[\"solution_hours\"].mean()\n",
    "        median_solution[year] = df[\"solution_hours\"].median()\n",
    "        mean_close[year] = df[\"close_hours\"].mean()\n",
    "        median_close[year] = df[\"close_hours\"].median()\n",
    "    print(\"Queue:\" + queue)\n",
    "    print(\"Moyenne première réponse:\" + str(mean_first_response))\n",
    "    print(\"Médiane première réponse:\" + str(median_first_response))\n",
    "    print(\"Moyenne solution:\" + str(mean_solution))\n",
    "    print(\"Médiane solution:\" + str(median_solution))\n",
    "    print(\"Moyenne fermeture:\" + str(mean_close))\n",
    "    print(\"Médiane fermeture:\" + str(median_close))\n",
    "    print(\"--\")\n",
    "\n",
    "    \n",
    "for year in [2014,2015,2016,2017]:\n",
    "    df_year = no_duplicate_data[(no_duplicate_data.ticket_create_time > str(year) + '-01-01') & (no_duplicate_data.ticket_create_time < str(year+1) + '-01-01')]\n",
    "    df = df_year\n",
    "    mean_first_response[year] = df[\"first_response_hours\"].mean()\n",
    "    median_first_response[year] = df[\"first_response_hours\"].median()\n",
    "    mean_solution[year] = df[\"solution_hours\"].mean()\n",
    "    median_solution[year] = df[\"solution_hours\"].median()\n",
    "    mean_close[year] = df[\"close_hours\"].mean()\n",
    "    median_close[year] = df[\"close_hours\"].median()\n",
    "    "
   ]
  },
  {
   "cell_type": "code",
   "execution_count": null,
   "metadata": {
    "collapsed": false
   },
   "outputs": [],
   "source": [
    "print(\"Moyenne première réponse:\" + str(mean_first_response))\n",
    "print(\"Médiane première réponse:\" + str(median_first_response))\n",
    "print(\"Moyenne solution:\" + str(mean_solution))\n",
    "print(\"Médiane solution:\" + str(median_solution))\n",
    "print(\"Moyenne fermeture:\" + str(mean_close))\n",
    "print(\"Médiane fermeture:\" + str(median_close))"
   ]
  },
  {
   "cell_type": "code",
   "execution_count": null,
   "metadata": {
    "collapsed": true
   },
   "outputs": [],
   "source": []
  }
 ],
 "metadata": {
  "kernelspec": {
   "display_name": "Python 3",
   "language": "python",
   "name": "python3"
  },
  "language_info": {
   "codemirror_mode": {
    "name": "ipython",
    "version": 3
   },
   "file_extension": ".py",
   "mimetype": "text/x-python",
   "name": "python",
   "nbconvert_exporter": "python",
   "pygments_lexer": "ipython3",
   "version": "3.6.0"
  }
 },
 "nbformat": 4,
 "nbformat_minor": 2
}
